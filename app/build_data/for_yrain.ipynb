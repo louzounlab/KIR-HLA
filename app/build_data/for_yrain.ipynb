{
 "cells": [
  {
   "cell_type": "code",
   "execution_count": 50,
   "metadata": {},
   "outputs": [
    {
     "data": {
      "text/plain": [
       "True"
      ]
     },
     "execution_count": 50,
     "metadata": {},
     "output_type": "execute_result"
    }
   ],
   "source": [
    "import pandas as pd\n",
    "import numpy as np\n",
    "import pickle \n",
    "\n",
    "# This file contains the amino sequence for each hla allele\n",
    "oh = pd.read_excel(\"./For_Ziv_OH.xlsx\", index_col=0)\n",
    "\n",
    "# These files contain beta values for for sequences\n",
    "coef = pd.read_excel(\"./For_Ziv_Coefficients.xlsx\", index_col=0)\n",
    "combined = pd.read_excel(\"./For_Ziv_Combined_Score.xlsx\", index_col=0)\n",
    "\n",
    "# Validate that we can apply matrix multiplication\n",
    "list(coef.index) == list(oh.columns)"
   ]
  },
  {
   "cell_type": "code",
   "execution_count": 51,
   "metadata": {},
   "outputs": [],
   "source": [
    "# Combines the coefs of the kirs and the coefs of the bindings.\n",
    "new_coefs = pd.concat([coef, combined], axis=1)\n",
    "new_coefs.fillna(0, inplace=True)\n",
    "\n",
    "matrix_oh = oh.values               # one hot of the alleles\n",
    "matrix_new_coefs = new_coefs.values # the coefs per measure and spot. \n",
    "\n",
    "# Multiplies the matrixes to get the result per allele and measure\n",
    "result = np.matmul(matrix_oh, matrix_new_coefs)"
   ]
  },
  {
   "cell_type": "code",
   "execution_count": 52,
   "metadata": {},
   "outputs": [],
   "source": [
    "def change_allele_name(allele):\n",
    "    \"\"\"\n",
    "    Gets allele name and adds it a '*' as second character.\n",
    "    \"\"\"\n",
    "    return allele[0] + \"*\" + allele[1:]\n",
    "    # return ''.join(list(allele).insert(1, \"*\"))\n",
    "\n",
    "def change_measure_name(measure):\n",
    "    \"\"\"\n",
    "    Gets a measure name from the original table, and converts it to Martin's shape.\n",
    "    \"\"\"\n",
    "    return measure.replace(\"'\", \"\").replace(\"-\", \"*\")"
   ]
  },
  {
   "cell_type": "code",
   "execution_count": 53,
   "metadata": {},
   "outputs": [],
   "source": [
    "# This dictionary convert an allele name to a row index in the matrix. \n",
    "alleles_places = {change_allele_name(allele.replace(\"'\", \"\")): i for i, allele in enumerate(oh.index)}\n",
    "\n",
    "# This dictionary convert a measure name to a column index in the matrix. \n",
    "measures_places = {change_measure_name(measure): i for i, measure in enumerate(new_coefs.columns)}\n",
    "\n",
    "# Now the all the scores of all the alleles are in a matrix, \n",
    "# lets put them in a dictionary:\n",
    "vals = {}\n",
    "\n",
    "for allele, a_index in alleles_places.items():\n",
    "    vals[allele] = {}\n",
    "    for measure, m_index in measures_places.items():\n",
    "        vals[allele][measure] = result[a_index, m_index]"
   ]
  },
  {
   "attachments": {},
   "cell_type": "markdown",
   "metadata": {},
   "source": [
    "This section creates functions which handle any amino sequence,\n",
    "it is not relevant for the goal of this notebook. "
   ]
  },
  {
   "cell_type": "code",
   "execution_count": 54,
   "metadata": {},
   "outputs": [
    {
     "data": {
      "text/plain": [
       "{'KIR3DL1*002': -1.1544792343345809,\n",
       " 'KIR3DL1*008': -1.1492936500678095,\n",
       " 'KIR3DL1*029': -0.7325954149749108,\n",
       " 'KIR3DL1*001': -1.3555063466208699,\n",
       " 'KIR3DL1*005': -3.1680331892558464,\n",
       " 'KIR3DL1*015': -0.6262475887547357,\n",
       " 'KIR3DL1*004': -2.023741544608816,\n",
       " 'KIR3DL1*009': -1.4950127688177273,\n",
       " 'KIR3DL1*020': -1.3471345455711288,\n",
       " 'Score for binding': -5.936199895238416,\n",
       " 'Score for high low binder': -1.3566148078880782}"
      ]
     },
     "execution_count": 54,
     "metadata": {},
     "output_type": "execute_result"
    }
   ],
   "source": [
    "coef_indexes = [c.replace(\"'\", \"\") for c in coef.index]\n",
    "coef_indexes = [(int(c[1:]) - 1, c[0]) for c in coef_indexes]\n",
    "\n",
    "def calculate_seq_vector(seq, coef_indexes):\n",
    "    seq_vec = np.ndarray((len(coef_indexes),), dtype=np.int64)\n",
    "    for i, (place, letter) in enumerate(coef_indexes):\n",
    "        seq_vec[i] = 1 if seq[place] == letter else 0\n",
    "    \n",
    "    return seq_vec\n",
    "\n",
    "def get_seq_result_dict(seq, coef_indexes, matrix_new_coefs):\n",
    "    seq_oh = calculate_seq_vector(seq, coef_indexes)\n",
    "    seq_result = np.matmul(seq_oh, matrix_new_coefs)\n",
    "    seq_result_dict = {}\n",
    "    for measure, m_index in measures_places.items():\n",
    "        seq_result_dict[measure] = seq_result[m_index]\n",
    "    return seq_result_dict\n",
    "\n",
    "seq = \"GSHSMRYFFTSVSRPGRGEPRFIAVGYVDDTQFVRFDSDAASQKMEPRAPWIEQEGPEYWDQETRNMKAHSQTDRANLGTLRGYYNQSEDGSHTIQIMYGCDVGPDGRFLRGYRQDAYDGKDYIALNEDLRSWTAADMAAQITKRKWEAVHAAEQRRVYLEGRCVDGLRRYLENGKETLQRTD\"\n",
    "x = get_seq_result_dict(seq, coef_indexes, matrix_new_coefs)\n",
    "x"
   ]
  },
  {
   "attachments": {},
   "cell_type": "markdown",
   "metadata": {},
   "source": [
    "Now we have the results, but we would like to know the percentile for each result, to get a context about it:"
   ]
  },
  {
   "cell_type": "code",
   "execution_count": 55,
   "metadata": {},
   "outputs": [],
   "source": [
    "# We would like to calculate the place (in percents) of the score per allele:\n",
    "\n",
    "percentiles = {} # The percentiles\n",
    "sort_values_dict = {} # The values per measure, after sorting \n",
    "\n",
    "# The alleles are in the same order like in the results matrix (same order as the excel)\n",
    "alleles_list = [allele for allele, _ in sorted(alleles_places.items(), key=lambda x: x[1])] # sort them by the places\n",
    "num = len(alleles_list)\n",
    "\n",
    "for measure, m_index in measures_places.items():\n",
    "    # Calculates the percentile of all alleles for measure:\n",
    "    percentiles[measure] = {}\n",
    "    \n",
    "    sort_values = sorted(zip(result[:, m_index], alleles_list))\n",
    "    sort_values_dict[measure] = [x[0] for x in sort_values] # Keep the sorted values for later\n",
    "    \n",
    "    for a_index, (value, allele) in enumerate(sort_values):\n",
    "        percentiles[measure][allele] = a_index / num"
   ]
  },
  {
   "cell_type": "code",
   "execution_count": 56,
   "metadata": {},
   "outputs": [],
   "source": [
    "# But we want the dictionary to be in the same structure as the former one (dict[allele][measure])\n",
    "temp = {}\n",
    "for allele in alleles_places:\n",
    "    temp[allele] = {}\n",
    "    for measure in measures_places:\n",
    "        temp[allele][measure] = percentiles[measure][allele]\n",
    "\n",
    "percentiles = temp"
   ]
  },
  {
   "attachments": {},
   "cell_type": "markdown",
   "metadata": {},
   "source": [
    "# Threshold\n",
    "Now we would like to calculates threshold values, \n",
    "they are defined ad the avergae between A*23:01 scores and B*27:05 scores. "
   ]
  },
  {
   "cell_type": "code",
   "execution_count": 57,
   "metadata": {},
   "outputs": [
    {
     "data": {
      "text/plain": [
       "{'KIR3DL1*002': 0.5815396583350322,\n",
       " 'KIR3DL1*008': 0.567616225098019,\n",
       " 'KIR3DL1*029': 0.5510481934498993,\n",
       " 'KIR3DL1*001': 0.47395733946011004,\n",
       " 'KIR3DL1*005': 0.03182070601928455,\n",
       " 'KIR3DL1*015': 0.4608754218574506,\n",
       " 'KIR3DL1*004': 0.150471532207204,\n",
       " 'KIR3DL1*009': 0.4352646721612451,\n",
       " 'KIR3DL1*020': 0.5029622128602422,\n",
       " 'Score for binding': 6.062997153966869,\n",
       " 'Score for high low binder': 3.816529272154212}"
      ]
     },
     "execution_count": 57,
     "metadata": {},
     "output_type": "execute_result"
    }
   ],
   "source": [
    "# Set threshold as values (and not percents)\n",
    "\n",
    "thresholds_vals = {}\n",
    "thresholds_percentile = {}\n",
    "\n",
    "a = \"A*23:01\"\n",
    "b = \"B*27:05\"\n",
    "\n",
    "for measure in measures_places:\n",
    "    thresholds_vals[measure] = (vals[a][measure] + vals[b][measure]) / 2\n",
    "\n",
    "thresholds_vals"
   ]
  },
  {
   "cell_type": "code",
   "execution_count": 58,
   "metadata": {},
   "outputs": [
    {
     "data": {
      "text/plain": [
       "{'KIR3DL1*002': 0.8323406412368521,\n",
       " 'KIR3DL1*008': 0.8320871879356229,\n",
       " 'KIR3DL1*029': 0.8308199214294766,\n",
       " 'KIR3DL1*001': 0.7266506146242555,\n",
       " 'KIR3DL1*005': 0.3139019135724243,\n",
       " 'KIR3DL1*015': 0.8315802813331644,\n",
       " 'KIR3DL1*004': 0.5441642377391965,\n",
       " 'KIR3DL1*009': 0.6815359270054493,\n",
       " 'KIR3DL1*020': 0.7388163730832594,\n",
       " 'Score for binding': 0.8310733747307059,\n",
       " 'Score for high low binder': 0.8081358509694588}"
      ]
     },
     "execution_count": 58,
     "metadata": {},
     "output_type": "execute_result"
    }
   ],
   "source": [
    "def get_percentile(sort_values_dict, scores):\n",
    "    percentiles_for_this = {}\n",
    "    \n",
    "    for measure in scores:\n",
    "        arr = sort_values_dict[measure]\n",
    "        t_val = scores[measure]\n",
    "        num = len(arr) - 1 \n",
    "\n",
    "        for index, val in enumerate(arr):\n",
    "            if t_val < val:\n",
    "                percentiles_for_this[measure] = index / num\n",
    "                break\n",
    "\n",
    "        # If this is the biggest val in arr, so it is in percentile 1.\n",
    "        if measure not in percentiles_for_this:\n",
    "            percentiles_for_this[measure] = 1    \n",
    "    \n",
    "    return percentiles_for_this\n",
    "\n",
    "# Gets the percentiles of the threshold values. \n",
    "thresholds_percentile = get_percentile(sort_values_dict, thresholds_vals)\n",
    "thresholds_percentile"
   ]
  },
  {
   "attachments": {},
   "cell_type": "markdown",
   "metadata": {},
   "source": [
    "Write all the results into pickle files, so the website will be able to use them:"
   ]
  },
  {
   "cell_type": "code",
   "execution_count": 59,
   "metadata": {},
   "outputs": [],
   "source": [
    "import os\n",
    "\n",
    "os.makedirs(\"../pkl\", exist_ok=True)\n",
    "\n",
    "with open(\"../pkl/vals.pkl\", \"wb\") as f:\n",
    "    pickle.dump(vals, f)\n",
    "\n",
    "with open(\"../pkl/percentiles.pkl\", \"wb\") as f:\n",
    "    pickle.dump(percentiles, f)\n",
    "\n",
    "with open(\"../pkl/threshold_vals.pkl\", \"wb\") as f:\n",
    "    pickle.dump(thresholds_vals, f)\n",
    "\n",
    "with open(\"../pkl/threshold_percentile.pkl\", \"wb\") as f:\n",
    "    pickle.dump(thresholds_percentile, f)\n",
    "\n",
    "with open(\"../pkl/sort_values.pkl\", \"wb\") as f:\n",
    "    pickle.dump(sort_values_dict, f)\n",
    "\n",
    "with open(\"../pkl/coefs_indexes.pkl\", \"wb\") as f:\n",
    "    pickle.dump(coef_indexes, f)\n",
    "\n",
    "with open(\"../pkl/matrix_new_coefs.pkl\", \"wb\") as f:\n",
    "    pickle.dump(matrix_new_coefs, f)\n",
    "\n",
    "with open(\"../pkl/measures_places.pkl\", \"wb\") as f:\n",
    "    pickle.dump(measures_places, f)"
   ]
  }
 ],
 "metadata": {
  "kernelspec": {
   "display_name": "Python 3",
   "language": "python",
   "name": "python3"
  },
  "language_info": {
   "codemirror_mode": {
    "name": "ipython",
    "version": 3
   },
   "file_extension": ".py",
   "mimetype": "text/x-python",
   "name": "python",
   "nbconvert_exporter": "python",
   "pygments_lexer": "ipython3",
   "version": "3.10.0"
  },
  "orig_nbformat": 4,
  "vscode": {
   "interpreter": {
    "hash": "726024d2a0667ee0b167fc0dd6f2aec611240d0601383da5475239be2542c182"
   }
  }
 },
 "nbformat": 4,
 "nbformat_minor": 2
}
